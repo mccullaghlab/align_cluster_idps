{
 "cells": [
  {
   "cell_type": "markdown",
   "id": "547a59f9",
   "metadata": {},
   "source": [
    "## Load Libraries"
   ]
  },
  {
   "cell_type": "code",
   "execution_count": 1,
   "id": "34efeebd",
   "metadata": {},
   "outputs": [],
   "source": [
    "import numpy as np\n",
    "import MDAnalysis as md\n",
    "import matplotlib.pyplot as plt\n",
    "%matplotlib inline\n",
    "from shapeGMMTorch import torch_sgmm, scripts, torch_align\n",
    "import torch"
   ]
  },
  {
   "cell_type": "markdown",
   "id": "aed6e434",
   "metadata": {},
   "source": [
    "## Load Trajectory"
   ]
  },
  {
   "cell_type": "code",
   "execution_count": 2,
   "id": "d73518b2",
   "metadata": {},
   "outputs": [],
   "source": [
    "# point to parameter/topology file and trajectory file\n",
    "parm_file = \"../idp_14_19_vac.parm7\"\n",
    "traj_file = \"idp_14_19_solv.nvt.stripped.dcd\"\n",
    "# create MD Universe\n",
    "coord = md.Universe(parm_file,traj_file)\n",
    "# make atom selection\n",
    "sel = coord.select_atoms(\"all\")\n",
    "# create empty array to contain all selection coordinates\n",
    "traj_data = np.empty((coord.trajectory.n_frames,sel.n_atoms,3),dtype=np.float64)\n",
    "# read trajectory and store coordinates (minus COG)\n",
    "for ts in coord.trajectory:\n",
    "    traj_data[ts.frame] = sel.positions-sel.center_of_geometry()"
   ]
  },
  {
   "cell_type": "markdown",
   "id": "a2b30822",
   "metadata": {},
   "source": [
    "## Align Trajectory to single average"
   ]
  },
  {
   "cell_type": "code",
   "execution_count": 3,
   "id": "191ca59a",
   "metadata": {},
   "outputs": [
    {
     "name": "stdout",
     "output_type": "stream",
     "text": [
      "Number of frames being analyzed: 30000\n",
      "Number of particles being analyzed: 109\n",
      "Number of dimensions (must be 3): 3\n",
      "Initializing clustering using method: random\n",
      "Setting uniform frame weights\n",
      "Weights from initial clusters in fit: [1.]\n",
      "1 [1.] -327.945\n",
      "2 [1.] -327.945\n"
     ]
    }
   ],
   "source": [
    "usgmm1 = torch_sgmm.ShapeGMMTorch(1,covar_type=\"uniform\",kabsch_thresh=1e-3,dtype=torch.float64,device=torch.device(\"cpu\"),verbose=True)\n",
    "aligned_traj_usgmm1 = usgmm1.fit(traj_data)"
   ]
  },
  {
   "cell_type": "code",
   "execution_count": 4,
   "id": "fb5f1921",
   "metadata": {},
   "outputs": [
    {
     "name": "stdout",
     "output_type": "stream",
     "text": [
      "-332.8261507481754\n",
      "-328.04669961123693\n",
      "-327.94715529870257\n",
      "-327.9447539824331\n",
      "-327.9446947302745\n"
     ]
    }
   ],
   "source": [
    "dtype = torch.float64\n",
    "device = torch.device(\"cpu\")\n",
    "traj_data_tensor = torch.tensor(traj_data,dtype=dtype,device=device)\n",
    "torch_align.torch_remove_center_of_geometry(traj_data_tensor,dtype=dtype,device=device)\n",
    "aligned_traj_tensor, avg_tensor = torch_align.torch_iterative_align_uniform(traj_data_tensor,dtype=dtype,device=device,verbose=True)[:2]"
   ]
  },
  {
   "cell_type": "code",
   "execution_count": 5,
   "id": "a0b96d02",
   "metadata": {},
   "outputs": [
    {
     "name": "stdout",
     "output_type": "stream",
     "text": [
      "1.1271106724880442\n"
     ]
    }
   ],
   "source": [
    "aligned_traj = aligned_traj_tensor.cpu().numpy()\n",
    "print(np.linalg.norm(aligned_traj_usgmm1-aligned_traj))"
   ]
  },
  {
   "cell_type": "markdown",
   "id": "f0d27444",
   "metadata": {},
   "source": [
    "## Compute Covariance Matrix"
   ]
  },
  {
   "cell_type": "code",
   "execution_count": 6,
   "id": "fd865e65",
   "metadata": {},
   "outputs": [],
   "source": [
    "disp = aligned_traj - avg_tensor.cpu().numpy()\n",
    "disp = disp.reshape(-1,sel.n_atoms*3)\n",
    "covar = np.dot(disp.T,disp)\n",
    "covar /= (disp.shape[0]-1)"
   ]
  },
  {
   "cell_type": "code",
   "execution_count": null,
   "id": "4abb5017",
   "metadata": {},
   "outputs": [],
   "source": [
    "# check covariance matrix has a null space of 6\n",
    "e, v = np.linalg.eigh(covar)\n",
    "print(e[:10])"
   ]
  },
  {
   "cell_type": "code",
   "execution_count": 7,
   "id": "bca4b4a8",
   "metadata": {},
   "outputs": [],
   "source": [
    "np.savetxt(\"idp_14_19_uniform_covar.dat\",covar)"
   ]
  },
  {
   "cell_type": "code",
   "execution_count": 8,
   "id": "40840a46",
   "metadata": {},
   "outputs": [],
   "source": [
    "np.savetxt(\"idp_14_19_uniform_avg.dat\", avg_tensor.cpu().numpy())"
   ]
  },
  {
   "cell_type": "code",
   "execution_count": null,
   "id": "50494079",
   "metadata": {},
   "outputs": [],
   "source": [
    "#plot covariance matrix\n",
    "\n",
    "n_nodes = covar.shape[0]\n",
    "node_range = range(nNodes+1)\n",
    "major_ticks = n_nodes//10\n",
    "minoe_ticks = n_nodes//100\n",
    "fig, ax = plt.subplots()\n",
    "ax.tick_params(which='major',length=6,width=2)\n",
    "ax.tick_params(which='minor',length=3,width=1)\n",
    "ax.xaxis.set_minor_locator(MultipleLocator(minor_ticks))\n",
    "ax.xaxis.set_major_locator(MultipleLocator(major_ticks))\n",
    "ax.yaxis.set_minor_locator(MultipleLocator(minor_ticks))\n",
    "ax.yaxis.set_major_locator(MultipleLocator(major_ticks))\n",
    "# make vrange symmetric about zero\n",
    "v_min = min(np.amin(covar),-np.amax(covar))\n",
    "v_max = max(np.amax(covar),-np.amin(covar))\n",
    "temp = plt.pcolormesh(node_range,node_range,square_matrix,cmap=plotting_cmap,vmin=v_min,vmax=v_max)\n",
    "\n",
    "cb1 = plt.colorbar()\n",
    "cb1.set_label(r'%s'%(cbar_label))\n",
    "\n",
    "xlabels = [str(int(x)+1) for x in temp.axes.get_xticks()[:]]\n",
    "ylabels = [str(int(y)+1) for y in temp.axes.get_yticks()[:]]\n",
    "temp.axes.set_xticks(temp.axes.get_xticks(minor=True)[:]+0.5,minor=True)\n",
    "temp.axes.set_xticks(temp.axes.get_xticks()[:]+0.5)\n",
    "temp.axes.set_yticks(temp.axes.get_yticks(minor=True)[:]+0.5,minor=True)\n",
    "temp.axes.set_yticks(temp.axes.get_yticks()[:]+0.5)\n",
    "temp.axes.set_xticklabels(xlabels)\n",
    "temp.axes.set_yticklabels(ylabels)\n",
    "\n",
    "plt.xlim((0,nNodes))\n",
    "plt.ylim((0,nNodes))\n",
    "plt.xlabel(\"Residue Index\",size=14)\n",
    "plt.ylabel(\"Residue Index\",size=14)\n",
    "ax.set_aspect('equal')\n",
    "plt.tight_layout()\n",
    "plt.plot(np.arange(0,nNodes,0.01),np.arange(0,nNodes,0.01),'--',lw=2,color='k')\n",
    "plt.show();"
   ]
  },
  {
   "cell_type": "markdown",
   "id": "0bb5e40b",
   "metadata": {},
   "source": [
    "## Perform cluster scan"
   ]
  },
  {
   "cell_type": "code",
   "execution_count": 9,
   "id": "ad3edd7c",
   "metadata": {},
   "outputs": [
    {
     "name": "stdout",
     "output_type": "stream",
     "text": [
      "[1 2 3 4 5]\n"
     ]
    }
   ],
   "source": [
    "# define cluster array\n",
    "cluster_array = np.arange(1,6,1).astype(int)\n",
    "print(cluster_array)"
   ]
  },
  {
   "cell_type": "code",
   "execution_count": null,
   "id": "dddcfca7",
   "metadata": {},
   "outputs": [
    {
     "name": "stdout",
     "output_type": "stream",
     "text": [
      "Number of frames to train each model: 25000\n",
      "Number of frames to predict each model: 5000\n",
      "Number of training sets: 3\n",
      "Number of clusters: 5\n",
      "Number of attempts per set/cluster: 5\n",
      "   Training Set      N Clusters         Attempt  Log Like per Frame    CPU Time (s)\n",
      "------------------------------------------------------------------------------------\n",
      "              1               1               1             405.849         227.648\n",
      "              1               2               1             424.638         303.871\n",
      "              1               2               2             424.625         306.041\n",
      "              1               2               3             424.575         336.530\n",
      "              1               2               4             424.591         314.221\n",
      "              1               2               5             424.599         382.668\n",
      "              1               3               1             428.226         308.069\n",
      "              1               3               2             428.184         406.576\n",
      "              1               3               3             428.212         346.400\n",
      "              1               3               4             427.915         525.783\n",
      "              1               3               5             429.588         316.299\n",
      "              1               4               1             433.574         442.338\n",
      "              1               4               2             433.289         607.495\n",
      "              1               4               3             431.630         548.075\n",
      "              1               4               4             432.322        1092.462\n",
      "              1               4               5             432.666         719.746\n",
      "              1               5               1             435.163         549.393\n",
      "              1               5               2             435.492         841.407\n",
      "              1               5               3             435.505         444.835\n",
      "              1               5               4             435.218         451.599\n",
      "              1               5               5             436.734        1114.487\n",
      "              2               1               1             405.774         153.764\n",
      "              2               2               1             424.246         315.182\n",
      "              2               2               2             424.301         413.761\n",
      "              2               2               3             424.261         319.698\n",
      "              2               2               4             424.261         303.616\n",
      "              2               2               5             424.245         364.592\n",
      "              2               3               1             427.364         598.831\n",
      "              2               3               2             427.883         362.435\n",
      "              2               3               3             427.855         438.203\n",
      "              2               3               4             429.326         396.660\n",
      "              2               3               5             429.331         593.682\n",
      "              2               4               1             432.512         697.967\n",
      "              2               4               2             431.619         546.397\n",
      "              2               4               3             433.262         487.603\n",
      "              2               4               4             431.114         496.599\n",
      "              2               4               5             432.231         397.219\n",
      "              2               5               1             434.286         549.281\n",
      "              2               5               2             434.262        1094.171\n",
      "              2               5               3             436.129         856.325\n",
      "              2               5               4             435.143         555.363\n",
      "              2               5               5             433.205         422.796\n",
      "              3               1               1             405.630         172.868\n",
      "              3               2               1             424.384         295.885\n",
      "              3               2               2             415.148         200.650\n",
      "              3               2               3             424.369         304.413\n"
     ]
    }
   ],
   "source": [
    "# perform cluster scan\n",
    "train, cv = scripts.cross_validate_cluster_scan(traj_data, 25000, covar_type=\"kronecker\", cluster_array = cluster_array, n_training_sets=3, n_attempts = 5, dtype=dtype, device=device)"
   ]
  },
  {
   "cell_type": "code",
   "execution_count": null,
   "id": "ed737112",
   "metadata": {},
   "outputs": [],
   "source": [
    "# shapeGMMTorch plots has a built-in plot function for this type of plot\n",
    "from shapeGMMTorch import plots\n",
    "# also need to load matplotlib\n",
    "import matplotlib.pyplot as plt\n",
    "%matplotlib inline\n",
    "# create figure\n",
    "fig, ax = plt.subplots(1,1,figsize=(4,4), dpi= 120, facecolor='w', edgecolor='k',sharex=True,sharey=True)\n",
    "plots.plot_log_likelihood_with_dd(ax,cluster_array,train,cv,fontsize=12,ylabel1=True,ylabel2=True,xlabel=True)\n",
    "# show plot\n",
    "plt.tight_layout()\n",
    "plt.show()"
   ]
  },
  {
   "cell_type": "code",
   "execution_count": null,
   "id": "0de9eebe",
   "metadata": {},
   "outputs": [],
   "source": []
  }
 ],
 "metadata": {
  "kernelspec": {
   "display_name": "Python 3 (ipykernel)",
   "language": "python",
   "name": "python3"
  },
  "language_info": {
   "codemirror_mode": {
    "name": "ipython",
    "version": 3
   },
   "file_extension": ".py",
   "mimetype": "text/x-python",
   "name": "python",
   "nbconvert_exporter": "python",
   "pygments_lexer": "ipython3",
   "version": "3.11.4"
  }
 },
 "nbformat": 4,
 "nbformat_minor": 5
}
